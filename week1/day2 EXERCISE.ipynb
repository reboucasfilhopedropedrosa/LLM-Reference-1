{
 "cells": [
  {
   "cell_type": "markdown",
   "id": "d15d8294-3328-4e07-ad16-8a03e9bbfdb9",
   "metadata": {},
   "source": [
    "# Welcome to your first assignment!\n",
    "\n",
    "Instructions are below. Please give this a try, and look in the solutions folder if you get stuck (or feel free to ask me!)"
   ]
  },
  {
   "cell_type": "markdown",
   "id": "ada885d9-4d42-4d9b-97f0-74fbbbfe93a9",
   "metadata": {},
   "source": [
    "<table style=\"margin: 0; text-align: left;\">\n",
    "    <tr>\n",
    "        <td style=\"width: 150px; height: 150px; vertical-align: middle;\">\n",
    "            <img src=\"../resources.jpg\" width=\"150\" height=\"150\" style=\"display: block;\" />\n",
    "        </td>\n",
    "        <td>\n",
    "            <h2 style=\"color:#f71;\">Just before we get to the assignment --</h2>\n",
    "            <span style=\"color:#f71;\">I thought I'd take a second to point you at this page of useful resources for the course. This includes links to all the slides.<br/>\n",
    "            <a href=\"https://edwarddonner.com/2024/11/13/llm-engineering-resources/\">https://edwarddonner.com/2024/11/13/llm-engineering-resources/</a><br/>\n",
    "            Please keep this bookmarked, and I'll continue to add more useful links there over time.\n",
    "            </span>\n",
    "        </td>\n",
    "    </tr>\n",
    "</table>"
   ]
  },
  {
   "cell_type": "markdown",
   "id": "6e9fa1fc-eac5-4d1d-9be4-541b3f2b3458",
   "metadata": {},
   "source": [
    "# HOMEWORK EXERCISE ASSIGNMENT\n",
    "\n",
    "Upgrade the day 1 project to summarize a webpage to use an Open Source model running locally via Ollama rather than OpenAI\n",
    "\n",
    "You'll be able to use this technique for all subsequent projects if you'd prefer not to use paid APIs.\n",
    "\n",
    "**Benefits:**\n",
    "1. No API charges - open-source\n",
    "2. Data doesn't leave your box\n",
    "\n",
    "**Disadvantages:**\n",
    "1. Significantly less power than Frontier Model\n",
    "\n",
    "## Recap on installation of Ollama\n",
    "\n",
    "Simply visit [ollama.com](https://ollama.com) and install!\n",
    "\n",
    "Once complete, the ollama server should already be running locally.  \n",
    "If you visit:  \n",
    "[http://localhost:11434/](http://localhost:11434/)\n",
    "\n",
    "You should see the message `Ollama is running`.  \n",
    "\n",
    "If not, bring up a new Terminal (Mac) or Powershell (Windows) and enter `ollama serve`  \n",
    "And in another Terminal (Mac) or Powershell (Windows), enter `ollama pull llama3.2`  \n",
    "Then try [http://localhost:11434/](http://localhost:11434/) again.\n",
    "\n",
    "If Ollama is slow on your machine, try using `llama3.2:1b` as an alternative. Run `ollama pull llama3.2:1b` from a Terminal or Powershell, and change the code below from `MODEL = \"llama3.2\"` to `MODEL = \"llama3.2:1b\"`"
   ]
  },
  {
   "cell_type": "code",
   "execution_count": 1,
   "id": "4e2a9393-7767-488e-a8bf-27c12dca35bd",
   "metadata": {},
   "outputs": [],
   "source": [
    "# imports\n",
    "\n",
    "import requests\n",
    "from bs4 import BeautifulSoup\n",
    "from IPython.display import Markdown, display"
   ]
  },
  {
   "cell_type": "code",
   "execution_count": 2,
   "id": "29ddd15d-a3c5-4f4e-a678-873f56162724",
   "metadata": {},
   "outputs": [],
   "source": [
    "# Constants\n",
    "\n",
    "OLLAMA_API = \"http://localhost:11434/api/chat\"\n",
    "HEADERS = {\"Content-Type\": \"application/json\"}\n",
    "MODEL = \"llama3.2\""
   ]
  },
  {
   "cell_type": "code",
   "execution_count": 3,
   "id": "dac0a679-599c-441f-9bf2-ddc73d35b940",
   "metadata": {},
   "outputs": [],
   "source": [
    "# Create a messages list using the same format that we used for OpenAI\n",
    "\n",
    "messages = [\n",
    "    {\"role\": \"user\", \"content\": \"Describe some of the business applications of Generative AI\"}\n",
    "]"
   ]
  },
  {
   "cell_type": "code",
   "execution_count": 4,
   "id": "7bb9c624-14f0-4945-a719-8ddb64f66f47",
   "metadata": {},
   "outputs": [],
   "source": [
    "payload = {\n",
    "        \"model\": MODEL,\n",
    "        \"messages\": messages,\n",
    "        \"stream\": False\n",
    "    }"
   ]
  },
  {
   "cell_type": "code",
   "execution_count": 5,
   "id": "42b9f644-522d-4e05-a691-56e7658c0ea9",
   "metadata": {},
   "outputs": [
    {
     "name": "stdout",
     "output_type": "stream",
     "text": [
      "Generative AI has numerous business applications across various industries, including:\n",
      "\n",
      "1. **Content Generation**: AI can generate high-quality content such as articles, blog posts, social media posts, and even entire books. This helps businesses save time and resources on content creation.\n",
      "2. **Graphic Design and Visual Content Creation**: Generative AI can create custom graphics, logos, and visual materials that are unique to each client. This is particularly useful for small businesses or startups with limited design resources.\n",
      "3. **Marketing Automation**: AI-powered tools can generate personalized marketing campaigns, social media posts, and email templates based on customer data and behavior.\n",
      "4. **Customer Service Chatbots**: Generative AI can power chatbots that provide 24/7 customer support, helping to resolve common issues quickly and efficiently.\n",
      "5. **Product Design and Prototyping**: AI can assist in the design and prototyping of new products by generating 3D models, CAD designs, and even functional prototypes.\n",
      "6. **Image and Video Generation**: Generative AI can create high-quality images and videos that are indistinguishable from those created by humans. This is useful for businesses looking to create engaging visual content for social media or advertising campaigns.\n",
      "7. **Speech Recognition and Voice Over Generation**: AI can generate voice-overs for videos, podcasts, and audiobooks, as well as recognize spoken words and transcribe audio files.\n",
      "8. **Predictive Analytics and Forecasting**: Generative AI can analyze large datasets to predict future trends, sales, and customer behavior, helping businesses make informed decisions.\n",
      "9. **Music Composition and Sound Design**: AI-powered tools can generate music compositions, sound effects, and even entire soundtracks for films and video games.\n",
      "10. **Language Translation and Interpretation**: Generative AI can translate languages in real-time, breaking language barriers for international businesses and organizations.\n",
      "\n",
      "Some specific industries that are heavily leveraging generative AI include:\n",
      "\n",
      "1. **E-commerce**: AI-powered tools can generate product recommendations, optimize product listings, and even create personalized shopping experiences.\n",
      "2. **Financial Services**: Generative AI is used to analyze financial data, identify trends, and predict market behavior.\n",
      "3. **Healthcare**: AI-powered tools can generate medical reports, diagnose diseases, and develop personalized treatment plans.\n",
      "4. **Education**: Generative AI is used to create personalized learning materials, grade assignments, and provide real-time feedback to students.\n",
      "\n",
      "These are just a few examples of the many business applications of generative AI. As the technology continues to evolve, we can expect to see even more innovative use cases across various industries.\n"
     ]
    }
   ],
   "source": [
    "response = requests.post(OLLAMA_API, json=payload, headers=HEADERS)\n",
    "print(response.json()['message']['content'])"
   ]
  },
  {
   "cell_type": "markdown",
   "id": "6a021f13-d6a1-4b96-8e18-4eae49d876fe",
   "metadata": {},
   "source": [
    "# Introducing the ollama package\n",
    "\n",
    "And now we'll do the same thing, but using the elegant ollama python package instead of a direct HTTP call.\n",
    "\n",
    "Under the hood, it's making the same call as above to the ollama server running at localhost:11434"
   ]
  },
  {
   "cell_type": "code",
   "execution_count": 6,
   "id": "7745b9c4-57dc-4867-9180-61fa5db55eb8",
   "metadata": {},
   "outputs": [
    {
     "name": "stdout",
     "output_type": "stream",
     "text": [
      "Generative AI has numerous business applications across various industries. Here are some examples:\n",
      "\n",
      "1. **Content Generation**: Generative AI can be used to generate high-quality content such as blog posts, social media posts, product descriptions, and more. This can help businesses reduce content creation costs and increase productivity.\n",
      "2. **Chatbots and Virtual Assistants**: Generative AI-powered chatbots can be used to create personalized customer support experiences, automate customer service tasks, and provide 24/7 assistance.\n",
      "3. **Image and Video Generation**: Generative AI can be used to generate high-quality images and videos for various purposes such as marketing, advertising, and social media. This can help businesses create visually appealing content without the need for expensive graphic designers or photographers.\n",
      "4. **Product Design and Development**: Generative AI can be used to design and develop new products, such as fashion items, electronics, and more. This can help businesses quickly prototype and test new ideas without the need for extensive human resources.\n",
      "5. **Customer Segmentation and Personalization**: Generative AI can be used to analyze customer data and create personalized marketing campaigns, improving customer engagement and conversion rates.\n",
      "6. **Predictive Maintenance**: Generative AI can be used to predict equipment failures and maintenance needs, reducing downtime and increasing overall efficiency.\n",
      "7. **Sales Forecasting**: Generative AI can be used to forecast sales and revenue, helping businesses make more informed decisions about production and resource allocation.\n",
      "8. **Market Research and Trend Analysis**: Generative AI can be used to analyze large datasets and identify trends and patterns in the market, providing valuable insights for businesses.\n",
      "9. **Automated Content Editing and Proofreading**: Generative AI can be used to automate content editing and proofreading tasks, freeing up human resources for more creative work.\n",
      "10. **Cybersecurity**: Generative AI can be used to detect and respond to cyber threats in real-time, improving the security of businesses and protecting sensitive data.\n",
      "\n",
      "Some industries that are particularly well-suited for generative AI include:\n",
      "\n",
      "* **Marketing and Advertising**: Generative AI can be used to create personalized marketing campaigns, automate content creation, and optimize ad targeting.\n",
      "* **E-commerce**: Generative AI can be used to generate product descriptions, optimize product listings, and personalize customer experiences.\n",
      "* **Healthcare**: Generative AI can be used to analyze medical data, predict patient outcomes, and develop personalized treatment plans.\n",
      "* **Finance**: Generative AI can be used to analyze financial data, predict market trends, and automate trading decisions.\n",
      "\n",
      "Overall, generative AI has the potential to transform many industries and businesses by increasing efficiency, productivity, and innovation.\n"
     ]
    }
   ],
   "source": [
    "import ollama\n",
    "\n",
    "response = ollama.chat(model=MODEL, messages=messages)\n",
    "print(response['message']['content'])"
   ]
  },
  {
   "cell_type": "markdown",
   "id": "1622d9bb-5c68-4d4e-9ca4-b492c751f898",
   "metadata": {},
   "source": [
    "# NOW the exercise for you\n",
    "\n",
    "Take the code from day1 and incorporate it here, to build a website summarizer that uses Llama 3.2 running locally instead of OpenAI"
   ]
  },
  {
   "cell_type": "code",
   "execution_count": null,
   "id": "28bf5d5c-a26a-489b-a56f-dd7ab3f488f0",
   "metadata": {},
   "outputs": [],
   "source": []
  }
 ],
 "metadata": {
  "kernelspec": {
   "display_name": "Python 3 (ipykernel)",
   "language": "python",
   "name": "python3"
  },
  "language_info": {
   "codemirror_mode": {
    "name": "ipython",
    "version": 3
   },
   "file_extension": ".py",
   "mimetype": "text/x-python",
   "name": "python",
   "nbconvert_exporter": "python",
   "pygments_lexer": "ipython3",
   "version": "3.11.10"
  }
 },
 "nbformat": 4,
 "nbformat_minor": 5
}
